{
 "cells": [
  {
   "cell_type": "code",
   "execution_count": 25,
   "metadata": {},
   "outputs": [],
   "source": [
    "import os\n",
    "import pandas as pd\n",
    "import numpy as np\n",
    "from xgboost import XGBRegressor"
   ]
  },
  {
   "cell_type": "markdown",
   "metadata": {},
   "source": [
    "# load sample dataset"
   ]
  },
  {
   "cell_type": "code",
   "execution_count": 21,
   "metadata": {},
   "outputs": [
    {
     "name": "stdout",
     "output_type": "stream",
     "text": [
      "new predictions.csv created\n"
     ]
    }
   ],
   "source": [
    "if os.path.exists(\"predictions.csv\"):\n",
    "    \n",
    "    print(\"existing predictions.csv loaded\")\n",
    "    df=pd.read_csv('predictions.csv')\n",
    "    \n",
    "else:\n",
    "    \n",
    "    print(\"new predictions.csv created\")\n",
    "\n",
    "    # read in prediction\n",
    "    df=pd.read_csv(\"train.csv\")\n",
    "\n",
    "    # select the features to be used as inputs to the model\n",
    "    features=['cont1','cont2', 'cont3', 'cont4']\n",
    "\n",
    "    # select the target variable\n",
    "    target='loss'\n",
    "\n",
    "    # split train data into X and y\n",
    "    X_train = df[features]\n",
    "    y_train = df[target]\n",
    "\n",
    "    # fit model to training data\n",
    "    model = XGBRegressor()\n",
    "    model.fit(X_train, y_train)\n",
    "\n",
    "    # append to df\n",
    "    df['pred']=model.predict(X_train)\n",
    "\n",
    "    # rename for convenience\n",
    "    df['actual']=df['loss']\n",
    "\n",
    "    # export to df\n",
    "    cols=['id', 'actual', 'pred']\n",
    "    df[cols].to_csv('predictions.csv', index=False)\n",
    "    df=df[cols]"
   ]
  },
  {
   "cell_type": "code",
   "execution_count": 40,
   "metadata": {},
   "outputs": [],
   "source": [
    "# create downsampling function\n",
    "\n",
    "def downsample_func(df):\n",
    "\n",
    "    # randomly select 75% of data with replacement\n",
    "    df=df.sample(frac =.75, replace = True)\n",
    "    return df"
   ]
  },
  {
   "cell_type": "markdown",
   "metadata": {},
   "source": [
    "# calculate gini"
   ]
  },
  {
   "cell_type": "code",
   "execution_count": 30,
   "metadata": {},
   "outputs": [],
   "source": [
    "def gini_table(df, pred, act):\n",
    "    \n",
    "    # returns a dataframe from which a gini coefficient can be calculated\n",
    "    # also can create cumulative gains curves\n",
    "    # pred = predicted values (output from emblem) argument required is the name of the column in df\n",
    "    # act = actual values (number of claims) argument required is the name of the column in df\n",
    "    \n",
    "    # 3 useful outputs\n",
    "    # Perc of Obs and Perc of Claims can be used to create Cumulative Gains Curves\n",
    "    # Gini_Area can be used to calculate the gini coefficient. Each Gini_Area is the approximate area under Cumulative\n",
    "    # gains curve. Feel free to change to trapezium rule in future.\n",
    "    \n",
    "    df = df.sort_values(by=pred, ascending=False)\n",
    "    df = df.reset_index()\n",
    "    df['Cumulative Claims'] = df[act].cumsum()\n",
    "    df['Perc of Obs'] = (df.index + 1) / df.shape[0]\n",
    "    df['Perc of Claims'] = df['Cumulative Claims'] / df.iloc[-1]['Cumulative Claims']\n",
    "    df['gini_area'] = df['Perc of Claims'] / df.shape[0]\n",
    "    return df"
   ]
  },
  {
   "cell_type": "code",
   "execution_count": 31,
   "metadata": {},
   "outputs": [],
   "source": [
    "def calc_gini(df, model, obs):\n",
    "    \n",
    "    # uses output from gini_table to calculate a gini coefficient. Formula comes from R:\\Pricing\\Personal Lines Pricing - Motor\\Technical\\21. Provident\\\n",
    "    # 4. SAS Processes\\Technical MI Tools\\Gini_Coefficients_and_U_Statistics\\1.Motivation - GiniCoefficientpaper.pdf\n",
    "    # model = column name of modelled values you wish to calculate gini coefficient of.\n",
    "    # obs = column name of actual values (number of claims)\n",
    "    \n",
    "    d1 = gini_table(df, model, obs)\n",
    "    Gini_coef = round((d1.sum()['gini_area'] - 0.5) *2,6)\n",
    "    return(Gini_coef)"
   ]
  },
  {
   "cell_type": "code",
   "execution_count": 32,
   "metadata": {},
   "outputs": [],
   "source": [
    "# def rebase(df, anchor_col, col_list):\n",
    "    \n",
    "#     # rebases all columns in col_list to anchor_col\n",
    "    \n",
    "#     anchor_total = df[anchor_col].sum()\n",
    "#     for col in col_list:\n",
    "#         col_total = df[col].sum()\n",
    "#         rebase_mult = anchor_total / col_total\n",
    "#         df[col + \" Rebased\"] = df[col]*rebase_mult"
   ]
  },
  {
   "cell_type": "code",
   "execution_count": 44,
   "metadata": {},
   "outputs": [],
   "source": [
    "def Average(lst):\n",
    "    return sum(lst) / len(lst)"
   ]
  },
  {
   "cell_type": "code",
   "execution_count": 47,
   "metadata": {},
   "outputs": [
    {
     "name": "stdout",
     "output_type": "stream",
     "text": [
      "Run: 1 Gini: 0.129879\n",
      "Run: 2 Gini: 0.128126\n",
      "Run: 3 Gini: 0.130869\n",
      "Run: 4 Gini: 0.130702\n",
      "Run: 5 Gini: 0.129732\n",
      "Run: 6 Gini: 0.124549\n",
      "Run: 7 Gini: 0.130455\n",
      "Run: 8 Gini: 0.126693\n",
      "Run: 9 Gini: 0.13148\n",
      "Run: 10 Gini: 0.12933\n",
      "Overall Average: 0.12933\n"
     ]
    }
   ],
   "source": [
    "for i in range(1, 11):\n",
    "    \n",
    "    ginis=[]\n",
    "    \n",
    "    # create a downsampled dataframe\n",
    "    down_df=downsample_func(df)\n",
    "    \n",
    "    # calculate gini on sample\n",
    "    gini=calc_gini(down_df, 'pred', 'actual')\n",
    "    ginis.append(gini)\n",
    "        \n",
    "    # print resulsts\n",
    "    print('Run:', i, 'Gini:', gini)\n",
    "    \n",
    "# calculate average gini\n",
    "average = Average(ginis)\n",
    "print('Overall Average:', average)"
   ]
  },
  {
   "cell_type": "code",
   "execution_count": null,
   "metadata": {},
   "outputs": [],
   "source": [
    "# plot"
   ]
  }
 ],
 "metadata": {
  "kernelspec": {
   "display_name": "Python 3",
   "language": "python",
   "name": "python3"
  },
  "language_info": {
   "codemirror_mode": {
    "name": "ipython",
    "version": 3
   },
   "file_extension": ".py",
   "mimetype": "text/x-python",
   "name": "python",
   "nbconvert_exporter": "python",
   "pygments_lexer": "ipython3",
   "version": "3.7.0"
  }
 },
 "nbformat": 4,
 "nbformat_minor": 2
}
